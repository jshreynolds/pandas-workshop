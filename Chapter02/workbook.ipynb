{
 "cells": [
  {
   "cell_type": "code",
   "execution_count": 6,
   "id": "65844594-d2f2-4896-8e45-dd4ac2ff13c7",
   "metadata": {},
   "outputs": [],
   "source": [
    "import pandas as pd\n",
    "sdf = pd.DataFrame({'col1': range(0,100), 'col2': range(1, 200, 2)})"
   ]
  },
  {
   "cell_type": "code",
   "execution_count": 11,
   "id": "ce8a7a27-5489-4650-ba49-45e50c55daa6",
   "metadata": {},
   "outputs": [
    {
     "name": "stdout",
     "output_type": "stream",
     "text": [
      "[[0 1]\n",
      " [1 3]\n",
      " [2 5]\n",
      " [3 7]\n",
      " [4 9]]\n"
     ]
    }
   ],
   "source": [
    "import numpy as np\n",
    "\n",
    "ar1 = np.array(range(0, 100))\n",
    "ar2 = np.array(range(1, 200, 2))\n",
    "np_2d = np.column_stack((ar1, ar2))\n",
    "print(np_2d[0:5])"
   ]
  },
  {
   "cell_type": "code",
   "execution_count": null,
   "id": "c74fba12-0b5c-4c74-9e1e-1fdb425b44e3",
   "metadata": {},
   "outputs": [],
   "source": []
  }
 ],
 "metadata": {
  "kernelspec": {
   "display_name": "Python 3 (ipykernel)",
   "language": "python",
   "name": "python3"
  },
  "language_info": {
   "codemirror_mode": {
    "name": "ipython",
    "version": 3
   },
   "file_extension": ".py",
   "mimetype": "text/x-python",
   "name": "python",
   "nbconvert_exporter": "python",
   "pygments_lexer": "ipython3",
   "version": "3.11.2"
  }
 },
 "nbformat": 4,
 "nbformat_minor": 5
}
