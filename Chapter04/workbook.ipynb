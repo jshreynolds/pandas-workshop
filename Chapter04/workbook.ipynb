{
 "cells": [
  {
   "cell_type": "code",
   "execution_count": 2,
   "metadata": {},
   "outputs": [],
   "source": [
    "import pandas as pd"
   ]
  },
  {
   "cell_type": "code",
   "execution_count": 17,
   "metadata": {},
   "outputs": [
    {
     "name": "stdout",
     "output_type": "stream",
     "text": [
      "<class 'pandas.core.frame.DataFrame'>\n",
      "RangeIndex: 100000 entries, 0 to 99999\n",
      "Data columns (total 6 columns):\n",
      " #   Column            Non-Null Count   Dtype \n",
      "---  ------            --------------   ----- \n",
      " 0   Receipt Id        100000 non-null  int64 \n",
      " 1   Date of Purchase  100000 non-null  object\n",
      " 2   Product Name      100000 non-null  object\n",
      " 3   Product Weight    100000 non-null  object\n",
      " 4   Total Price       100000 non-null  object\n",
      " 5   Retail shop name  100000 non-null  object\n",
      "dtypes: int64(1), object(5)\n",
      "memory usage: 4.6+ MB\n"
     ]
    },
    {
     "data": {
      "text/plain": [
       "None"
      ]
     },
     "metadata": {},
     "output_type": "display_data"
    },
    {
     "data": {
      "text/html": [
       "<div>\n",
       "<style scoped>\n",
       "    .dataframe tbody tr th:only-of-type {\n",
       "        vertical-align: middle;\n",
       "    }\n",
       "\n",
       "    .dataframe tbody tr th {\n",
       "        vertical-align: top;\n",
       "    }\n",
       "\n",
       "    .dataframe thead th {\n",
       "        text-align: right;\n",
       "    }\n",
       "</style>\n",
       "<table border=\"1\" class=\"dataframe\">\n",
       "  <thead>\n",
       "    <tr style=\"text-align: right;\">\n",
       "      <th></th>\n",
       "      <th>Receipt Id</th>\n",
       "      <th>Date of Purchase</th>\n",
       "      <th>Product Name</th>\n",
       "      <th>Product Weight</th>\n",
       "      <th>Total Price</th>\n",
       "      <th>Retail shop name</th>\n",
       "    </tr>\n",
       "  </thead>\n",
       "  <tbody>\n",
       "    <tr>\n",
       "      <th>0</th>\n",
       "      <td>10001</td>\n",
       "      <td>2020-05-24</td>\n",
       "      <td>Wheat</td>\n",
       "      <td>4.8</td>\n",
       "      <td>17.0</td>\n",
       "      <td>Fline Store</td>\n",
       "    </tr>\n",
       "    <tr>\n",
       "      <th>1</th>\n",
       "      <td>10002</td>\n",
       "      <td>2020-05-05</td>\n",
       "      <td>Fruit Juice</td>\n",
       "      <td>3.1</td>\n",
       "      <td>19.0</td>\n",
       "      <td>Dello Superstore</td>\n",
       "    </tr>\n",
       "    <tr>\n",
       "      <th>2</th>\n",
       "      <td>10003</td>\n",
       "      <td>2020-04-27</td>\n",
       "      <td>Vegetables</td>\n",
       "      <td>1.2</td>\n",
       "      <td>15.0</td>\n",
       "      <td>Javies Retail</td>\n",
       "    </tr>\n",
       "    <tr>\n",
       "      <th>3</th>\n",
       "      <td>10004</td>\n",
       "      <td>2020-05-05</td>\n",
       "      <td>Oil</td>\n",
       "      <td>3.1</td>\n",
       "      <td>17.0</td>\n",
       "      <td>Javies Retail</td>\n",
       "    </tr>\n",
       "    <tr>\n",
       "      <th>4</th>\n",
       "      <td>10005</td>\n",
       "      <td>2020-04-27</td>\n",
       "      <td>Wheat</td>\n",
       "      <td>4.8</td>\n",
       "      <td>13.0</td>\n",
       "      <td>Javies Retail</td>\n",
       "    </tr>\n",
       "  </tbody>\n",
       "</table>\n",
       "</div>"
      ],
      "text/plain": [
       "   Receipt Id Date of Purchase Product Name  Product Weight  Total Price  \\\n",
       "0       10001       2020-05-24        Wheat             4.8         17.0   \n",
       "1       10002       2020-05-05  Fruit Juice             3.1         19.0   \n",
       "2       10003       2020-04-27   Vegetables             1.2         15.0   \n",
       "3       10004       2020-05-05          Oil             3.1         17.0   \n",
       "4       10005       2020-04-27        Wheat             4.8         13.0   \n",
       "\n",
       "   Retail shop name  \n",
       "0       Fline Store  \n",
       "1  Dello Superstore  \n",
       "2     Javies Retail  \n",
       "3     Javies Retail  \n",
       "4     Javies Retail  "
      ]
     },
     "metadata": {},
     "output_type": "display_data"
    },
    {
     "data": {
      "text/plain": [
       "Receipt Id                   int64\n",
       "Date of Purchase    datetime64[ns]\n",
       "Product Name              category\n",
       "Product Weight             float64\n",
       "Total Price                float64\n",
       "Retail shop name          category\n",
       "dtype: object"
      ]
     },
     "metadata": {},
     "output_type": "display_data"
    },
    {
     "name": "stdout",
     "output_type": "stream",
     "text": [
      "<class 'pandas.core.frame.DataFrame'>\n",
      "RangeIndex: 100000 entries, 0 to 99999\n",
      "Data columns (total 6 columns):\n",
      " #   Column            Non-Null Count   Dtype         \n",
      "---  ------            --------------   -----         \n",
      " 0   Receipt Id        100000 non-null  int64         \n",
      " 1   Date of Purchase  100000 non-null  datetime64[ns]\n",
      " 2   Product Name      100000 non-null  category      \n",
      " 3   Product Weight    100000 non-null  float64       \n",
      " 4   Total Price       100000 non-null  float64       \n",
      " 5   Retail shop name  100000 non-null  category      \n",
      "dtypes: category(2), datetime64[ns](1), float64(2), int64(1)\n",
      "memory usage: 3.2 MB\n"
     ]
    },
    {
     "data": {
      "text/plain": [
       "None"
      ]
     },
     "metadata": {},
     "output_type": "display_data"
    }
   ],
   "source": [
    "file_url = \"./Data/retail_purchase.csv\"\n",
    "df = pd.read_csv(file_url)\n",
    "display.display(df.info())\n",
    "\n",
    "df['Date of Purchase'] = pd.to_datetime(df['Date of Purchase'], format='%d/%m/%y')\n",
    "\n",
    "df['Product Name'] = df['Product Name'].astype('category')\n",
    "df['Product Weight'] = df['Product Weight'].str.replace('lb', '').astype('float')\n",
    "df['Total Price'] = df['Total Price'].str.replace('€', '').astype('float')\n",
    "df['Retail shop name'] = df['Retail shop name'].astype('category')\n",
    "\n",
    "from IPython import display\n",
    "display.display(df.head())\n",
    "display.display(df.dtypes)\n",
    "display.display(df.info())\n",
    "\n",
    "\n"
   ]
  },
  {
   "cell_type": "code",
   "execution_count": 18,
   "metadata": {},
   "outputs": [],
   "source": [
    "column_names = [\"Customer ID\", \"Customer Name\",\\\n",
    "                \"2018 Revenue\", \"2019 Revenue\",\\\n",
    "                \"Growth\", \"Start Year\", \"Start Month\",\\\n",
    "                \"Start Day\", \"New Customer\"]\n",
    "row1 = list([1001.0, 'Pandas Banking',\\\n",
    "             '€235000', '€248000',\\\n",
    "             '5.5%', 2013,3,10, 0])\n",
    "row2 = list([1002.0, 'Pandas Grocery', \\\n",
    "             '€196000', '€205000', \\\n",
    "             '4.5%', 2016,4,30, 0])\n",
    "row3 = list([1003.0, 'Pandas Telecom', \\\n",
    "             '€167000', '€193000', '15.5%',\\\n",
    "             2010,11,24, 0])\n",
    "row4 = list([1004.0, 'Pandas Transport',\\\n",
    "             '€79000', '€90000', '13.9%', \\\n",
    "             2018,1,15, 1])\n",
    "row5 = list([1005.0, 'Pandas Insurance', \\\n",
    "             '€241000', '€264000', '9.5%',\\\n",
    "             2009,6,1, 0])\n",
    "\n",
    "df = pd.DataFrame(data = [row1, row2, row3, row4, row5], columns = column_names)"
   ]
  },
  {
   "cell_type": "code",
   "execution_count": 19,
   "metadata": {},
   "outputs": [
    {
     "data": {
      "text/plain": [
       "Customer ID      float64\n",
       "Customer Name     object\n",
       "2018 Revenue      object\n",
       "2019 Revenue      object\n",
       "Growth            object\n",
       "Start Year         int64\n",
       "Start Month        int64\n",
       "Start Day          int64\n",
       "New Customer       int64\n",
       "dtype: object"
      ]
     },
     "execution_count": 19,
     "metadata": {},
     "output_type": "execute_result"
    }
   ],
   "source": [
    "df.dtypes\n",
    "\n",
    "def remove_currency(column):\n",
    "    new_column = column.replace('€', '')\n",
    "    print(new_column)\n",
    "    return int(new_column)"
   ]
  }
 ],
 "metadata": {
  "kernelspec": {
   "display_name": "pandas-workshop",
   "language": "python",
   "name": "python3"
  },
  "language_info": {
   "codemirror_mode": {
    "name": "ipython",
    "version": 3
   },
   "file_extension": ".py",
   "mimetype": "text/x-python",
   "name": "python",
   "nbconvert_exporter": "python",
   "pygments_lexer": "ipython3",
   "version": "3.11.3"
  },
  "orig_nbformat": 4
 },
 "nbformat": 4,
 "nbformat_minor": 2
}
